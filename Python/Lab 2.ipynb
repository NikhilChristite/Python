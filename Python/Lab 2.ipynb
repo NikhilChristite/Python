{
 "cells": [
  {
   "cell_type": "markdown",
   "metadata": {},
   "source": [
    "### Question : 01"
   ]
  },
  {
   "cell_type": "code",
   "execution_count": 3,
   "metadata": {},
   "outputs": [
    {
     "name": "stdout",
     "output_type": "stream",
     "text": [
      "After append(): ['AI.in', 'Robotics.net', 'DeepLearning.org']\n",
      "After insert(): ['AI.in', 'Machine Learning.io', 'Robotics.net', 'DeepLearning.org']\n",
      "After extend(): ['AI.in', 'Machine Learning.io', 'Robotics.net', 'DeepLearning.org', 'demo.dev', 'project.gov']\n",
      "After adding a tuple: ['AI.in', 'Machine Learning.io', 'Robotics.net', 'DeepLearning.org', 'demo.dev', 'project.gov', 'app.co', 'service.com']\n",
      "After adding a set: ['AI.in', 'Machine Learning.io', 'Robotics.net', 'DeepLearning.org', 'demo.dev', 'project.gov', 'app.co', 'service.com', 'unique2.net', 'unique1.com']\n",
      "After adding keys from a dictionary: ['AI.in', 'Machine Learning.io', 'Robotics.net', 'DeepLearning.org', 'demo.dev', 'project.gov', 'app.co', 'service.com', 'unique2.net', 'unique1.com', 'web1', 'web2']\n",
      "After adding dictionary values as a list: ['AI.in', 'Machine Learning.io', 'Robotics.net', 'DeepLearning.org', 'demo.dev', 'project.gov', 'app.co', 'service.com', 'unique2.net', 'unique1.com', 'web1', 'web2', 'web1.com', 'web2.net']\n"
     ]
    }
   ],
   "source": [
    "# Create an empty list\n",
    "domain_list = []\n",
    "\n",
    "# Method 1: Using append() to add elements\n",
    "domain_list.append(\"AI.in\")\n",
    "domain_list.append(\"Robotics.net\")\n",
    "domain_list.append(\"DeepLearning.org\")\n",
    "print(\"After append():\", domain_list)\n",
    "\n",
    "# Method 2: Using insert() to add an element at a specific index\n",
    "domain_list.insert(1, \"Machine Learning.io\")\n",
    "print(\"After insert():\", domain_list)\n",
    "\n",
    "# Method 3: Using extend() to add multiple elements from an iterable (list)\n",
    "new_domains = [\"demo.dev\", \"project.gov\"]\n",
    "domain_list.extend(new_domains)\n",
    "print(\"After extend():\", domain_list)\n",
    "\n",
    "# Method 4: Adding elements using another iterable (tuple)\n",
    "more_domains = (\"app.co\", \"service.com\")\n",
    "domain_list += more_domains\n",
    "print(\"After adding a tuple:\", domain_list)\n",
    "\n",
    "# Method 5: Adding elements using a set\n",
    "unique_domains = {\"unique1.com\", \"unique2.net\"}\n",
    "domain_list += unique_domains\n",
    "print(\"After adding a set:\", domain_list)\n",
    "\n",
    "# Method 6: Adding elements using a dictionary (only keys will be added)\n",
    "dictionary_domains = {\"web1\": \"web1.com\", \"web2\": \"web2.net\"}\n",
    "domain_list += dictionary_domains.keys()\n",
    "print(\"After adding keys from a dictionary:\", domain_list)\n",
    "\n",
    "# Method 7: Adding elements using dictionary values as a list\n",
    "domain_list.extend(dictionary_domains.values())\n",
    "print(\"After adding dictionary values as a list:\", domain_list)\n"
   ]
  },
  {
   "cell_type": "markdown",
   "metadata": {},
   "source": [
    "### Question : 02"
   ]
  },
  {
   "cell_type": "code",
   "execution_count": 4,
   "metadata": {},
   "outputs": [
    {
     "name": "stdout",
     "output_type": "stream",
     "text": [
      "Original list: [10, 20, 30, 40, 50]\n",
      "List after swapping first and last elements: [50, 20, 30, 40, 10]\n"
     ]
    }
   ],
   "source": [
    "# Create a list with numeric elements\n",
    "numeric_list = [10, 20, 30, 40, 50]\n",
    "\n",
    "# Print the original list\n",
    "print(\"Original list:\", numeric_list)\n",
    "\n",
    "# Swap the first and last elements\n",
    "def swap_first_and_last(lst):\n",
    "    if len(lst) >= 2:\n",
    "        lst[0], lst[-1] = lst[-1], lst[0]\n",
    "\n",
    "# Call the swap function\n",
    "swap_first_and_last(numeric_list)\n",
    "\n",
    "# Print the list after swapping\n",
    "print(\"List after swapping first and last elements:\", numeric_list)\n"
   ]
  },
  {
   "cell_type": "markdown",
   "metadata": {},
   "source": [
    "### Question : 03"
   ]
  },
  {
   "cell_type": "code",
   "execution_count": 5,
   "metadata": {},
   "outputs": [
    {
     "name": "stdout",
     "output_type": "stream",
     "text": [
      "Original list: [123, 45, 678, 9, 100]\n",
      "Sum of digits in the list: 46\n"
     ]
    }
   ],
   "source": [
    "# Create a list with numeric elements\n",
    "numeric_list = [123, 45, 678, 9, 100]\n",
    "\n",
    "# Print the original list\n",
    "print(\"Original list:\", numeric_list)\n",
    "\n",
    "# Function to calculate the sum of digits in a number\n",
    "def sum_of_digits(num):\n",
    "    total = 0\n",
    "    while num > 0:\n",
    "        total += num % 10\n",
    "        num //= 10\n",
    "    return total\n",
    "\n",
    "# Calculate the sum of digits in the list\n",
    "sum_of_digits_list = sum(sum_of_digits(num) for num in numeric_list)\n",
    "\n",
    "# Print the sum of digits in the list\n",
    "print(\"Sum of digits in the list:\", sum_of_digits_list)\n"
   ]
  },
  {
   "cell_type": "markdown",
   "metadata": {},
   "source": [
    "### Question : 04"
   ]
  },
  {
   "cell_type": "code",
   "execution_count": 6,
   "metadata": {},
   "outputs": [
    {
     "name": "stdout",
     "output_type": "stream",
     "text": [
      "Smallest element is: 4\n"
     ]
    }
   ],
   "source": [
    "# Python program to find smallest\n",
    "# number in a list\n",
    " \n",
    "# list of numbers\n",
    "list1 = [10, 20, 4, 45, 99]\n",
    " \n",
    "# sorting the list\n",
    "list1.sort()\n",
    " \n",
    "# printing the first element\n",
    "print(\"Smallest element is:\", list1[0])"
   ]
  },
  {
   "cell_type": "markdown",
   "metadata": {},
   "source": [
    "### Question : 05"
   ]
  },
  {
   "cell_type": "code",
   "execution_count": 7,
   "metadata": {},
   "outputs": [
    {
     "name": "stdout",
     "output_type": "stream",
     "text": [
      "{'AI': 3, 'IOT': 2, 'ML': 1}\n"
     ]
    }
   ],
   "source": [
    "# Sample dictionary\n",
    "my_dict = {'AI': 3, 'ML': 1, 'IOT': 2}\n",
    "\n",
    "# Sort the dictionary by keys in ascending order\n",
    "sorted_dict = dict(sorted(my_dict.items(), key=lambda item: item[0]))\n",
    "\n",
    "# Output the sorted dictionary\n",
    "print(sorted_dict)\n"
   ]
  },
  {
   "cell_type": "markdown",
   "metadata": {},
   "source": [
    "### Question : 06"
   ]
  },
  {
   "cell_type": "code",
   "execution_count": 8,
   "metadata": {},
   "outputs": [
    {
     "name": "stdout",
     "output_type": "stream",
     "text": [
      "Dictionary: {'key1': 10, 'key2': 20, 'key3': 30, 'key4': 40, 'key5': 50}\n",
      "Sum of all values: 150\n"
     ]
    }
   ],
   "source": [
    "# Step 1: Create the dictionary with numeric values\n",
    "my_dictionary = {\n",
    "    \"key1\": 10,\n",
    "    \"key2\": 20,\n",
    "    \"key3\": 30,\n",
    "    \"key4\": 40,\n",
    "    \"key5\": 50\n",
    "}\n",
    "\n",
    "# Step 2: Calculate the sum of all the values in the dictionary\n",
    "sum_of_values = sum(my_dictionary.values())\n",
    "\n",
    "print(\"Dictionary:\", my_dictionary)\n",
    "print(\"Sum of all values:\", sum_of_values)\n"
   ]
  },
  {
   "cell_type": "markdown",
   "metadata": {},
   "source": [
    "### Question : 07"
   ]
  },
  {
   "cell_type": "code",
   "execution_count": 1,
   "metadata": {},
   "outputs": [
    {
     "name": "stdout",
     "output_type": "stream",
     "text": [
      "Sorted Dictionary in Descending Order of Values:\n",
      "{'Image': 5, 'AI': 3, 'Robotics': 2, 'IOT': 1}\n"
     ]
    }
   ],
   "source": [
    "# Sample dictionary with key-value pairs\n",
    "sample_dict = {'AI': 3, 'IOT': 1, 'Robotics': 2, 'Image': 5}\n",
    "\n",
    "# Sorting the dictionary in descending order of values using a lambda function\n",
    "sorted_dict = dict(sorted(sample_dict.items(), key=lambda item: item[1], reverse=True))\n",
    "\n",
    "# Displaying the sorted dictionary\n",
    "print(\"Sorted Dictionary in Descending Order of Values:\")\n",
    "print(sorted_dict)\n"
   ]
  }
 ],
 "metadata": {
  "kernelspec": {
   "display_name": "Python 3",
   "language": "python",
   "name": "python3"
  },
  "language_info": {
   "codemirror_mode": {
    "name": "ipython",
    "version": 3
   },
   "file_extension": ".py",
   "mimetype": "text/x-python",
   "name": "python",
   "nbconvert_exporter": "python",
   "pygments_lexer": "ipython3",
   "version": "3.11.0"
  },
  "orig_nbformat": 4
 },
 "nbformat": 4,
 "nbformat_minor": 2
}
