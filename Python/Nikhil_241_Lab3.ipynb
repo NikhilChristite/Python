{
 "cells": [
  {
   "cell_type": "code",
   "execution_count": 5,
   "metadata": {},
   "outputs": [
    {
     "name": "stdout",
     "output_type": "stream",
     "text": [
      "{'name': 'Nikhil', 'Domain_name': 'MachineLearning', 'Regno': '2347241'}\n"
     ]
    }
   ],
   "source": [
    "def decode_encoded_string(stringsplit):\n",
    "    # Split the encoded string using underscores\n",
    "    X = stringsplit.split('_')\n",
    "    \n",
    "    # Extract the name, domain name, and register number\n",
    "    name = X[0].strip()\n",
    "    domain_name = X[1].strip()\n",
    "    regno = X[2].strip()\n",
    "    \n",
    "    # Create and return the dictionary\n",
    "    result = {\n",
    "        \"name\": name,\n",
    "        \"Domain_name\": domain_name,\n",
    "        \"Regno\": regno\n",
    "    }\n",
    "    \n",
    "    return result\n",
    "\n",
    "# Test the function with the example input\n",
    "encoded_string = \" Nikhil_MachineLearning_2347241\"\n",
    "decoded_dict = decode_encoded_string(encoded_string)\n",
    "print(decoded_dict)\n"
   ]
  }
 ],
 "metadata": {
  "kernelspec": {
   "display_name": "Python 3",
   "language": "python",
   "name": "python3"
  },
  "language_info": {
   "codemirror_mode": {
    "name": "ipython",
    "version": 3
   },
   "file_extension": ".py",
   "mimetype": "text/x-python",
   "name": "python",
   "nbconvert_exporter": "python",
   "pygments_lexer": "ipython3",
   "version": "3.11.0"
  },
  "orig_nbformat": 4
 },
 "nbformat": 4,
 "nbformat_minor": 2
}
