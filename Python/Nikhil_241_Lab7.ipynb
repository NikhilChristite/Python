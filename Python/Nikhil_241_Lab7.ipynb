{
 "cells": [
  {
   "cell_type": "markdown",
   "metadata": {},
   "source": [
    "## Q1. Create two 3×3 matrices using the random function in Numpy and perform the following operations.\n",
    "## è Product (prod)\n",
    "## è Multiplication (multiply)\n",
    "## è Dot Product (dot)\n",
    "\n"
   ]
  },
  {
   "cell_type": "code",
   "execution_count": 1,
   "metadata": {},
   "outputs": [
    {
     "name": "stdout",
     "output_type": "stream",
     "text": [
      "Matrix 1:\n",
      " [[0.6794901  0.5952648  0.15253572]\n",
      " [0.33841687 0.76106676 0.01585567]\n",
      " [0.9553566  0.19063943 0.30402218]]\n",
      "Matrix 2:\n",
      " [[0.93824152 0.2356648  0.46779725]\n",
      " [0.95079483 0.58308898 0.89930218]\n",
      " [0.1780007  0.61455957 0.24541753]]\n",
      "Product of elements in Matrix 1: 1.3951078800478488e-05\n",
      "Matrix multiplication:\n",
      " [[1.23065199 0.60096654 0.89062147]\n",
      " [1.04395743 0.53326684 0.84663074]\n",
      " [1.13173038 0.52314341 0.69296801]]\n",
      "Dot product:\n",
      " [[1.23065199 0.60096654 0.89062147]\n",
      " [1.04395743 0.53326684 0.84663074]\n",
      " [1.13173038 0.52314341 0.69296801]]\n"
     ]
    }
   ],
   "source": [
    "import numpy as np\n",
    "\n",
    "# Create two 3x3 matrices with random values\n",
    "matrix1 = np.random.rand(3, 3)\n",
    "matrix2 = np.random.rand(3, 3)\n",
    "\n",
    "# Calculate the product of the elements in the matrices\n",
    "product = np.prod(matrix1)\n",
    "\n",
    "# Perform matrix multiplication\n",
    "multiplication = np.matmul(matrix1, matrix2)\n",
    "\n",
    "# Perform dot product\n",
    "dot_product = np.dot(matrix1, matrix2)\n",
    "\n",
    "# Print the matrices and the results of the operations\n",
    "print(\"Matrix 1:\\n\", matrix1)\n",
    "print(\"Matrix 2:\\n\", matrix2)\n",
    "print(\"Product of elements in Matrix 1:\", product)\n",
    "print(\"Matrix multiplication:\\n\", multiplication)\n",
    "print(\"Dot product:\\n\", dot_product)"
   ]
  },
  {
   "cell_type": "markdown",
   "metadata": {},
   "source": [
    "## Q2. Perform the following set operations using the Numpy functions.\n",
    "## è Union\n",
    "## è Intersection\n",
    "## è Set difference\n",
    "## è XOR\n"
   ]
  },
  {
   "cell_type": "code",
   "execution_count": 2,
   "metadata": {},
   "outputs": [
    {
     "name": "stdout",
     "output_type": "stream",
     "text": [
      "Array 1: [1 2 3 4 5]\n",
      "Array 2: [4 5 6 7 8]\n",
      "Union: [1 2 3 4 5 6 7 8]\n",
      "Intersection: [4 5]\n",
      "Set difference (Array 1 - Array 2): [1 2 3]\n",
      "XOR: [1 2 3 6 7 8]\n"
     ]
    }
   ],
   "source": [
    "import numpy as np\n",
    "\n",
    "# Create two arrays\n",
    "array1 = np.array([1, 2, 3, 4, 5])\n",
    "array2 = np.array([4, 5, 6, 7, 8])\n",
    "\n",
    "# Perform set operations\n",
    "union = np.union1d(array1, array2)\n",
    "intersection = np.intersect1d(array1, array2)\n",
    "set_difference = np.setdiff1d(array1, array2)\n",
    "xor = np.setxor1d(array1, array2)\n",
    "\n",
    "# Print the results\n",
    "print(\"Array 1:\", array1)\n",
    "print(\"Array 2:\", array2)\n",
    "print(\"Union:\", union)\n",
    "print(\"Intersection:\", intersection)\n",
    "print(\"Set difference (Array 1 - Array 2):\", set_difference)\n",
    "print(\"XOR:\", xor)"
   ]
  },
  {
   "cell_type": "markdown",
   "metadata": {},
   "source": [
    "## Q3. Create a 1D array using Random function and perform the following operations.\n",
    "## è Cumulative sum\n",
    "## è Cumulative Product\n",
    "## è Discrete difference (with n=3)\n",
    "## è Find the unique elements from the array\n"
   ]
  },
  {
   "cell_type": "code",
   "execution_count": 3,
   "metadata": {},
   "outputs": [
    {
     "name": "stdout",
     "output_type": "stream",
     "text": [
      "Array: [0.16068798 0.24918442 0.95708561 0.46746991 0.70573996 0.0392466\n",
      " 0.05441742 0.25453429 0.92447761 0.31453973]\n",
      "Cumulative sum: [0.16068798 0.4098724  1.366958   1.83442791 2.54016788 2.57941448\n",
      " 2.6338319  2.88836619 3.8128438  4.12738353]\n",
      "Cumulative product: [1.60687982e-01 4.00409409e-02 3.83226082e-02 1.79146662e-02\n",
      " 1.26430959e-02 4.96198561e-04 2.70018465e-05 6.87289570e-06\n",
      " 6.35383820e-06 1.99853457e-06]\n",
      "Discrete difference (n=3): [-1.81692164  1.92540264 -1.63264917  1.5864276  -0.49671814  0.28488042\n",
      " -1.74970767]\n",
      "Unique elements: [0.0392466  0.05441742 0.16068798 0.24918442 0.25453429 0.31453973\n",
      " 0.46746991 0.70573996 0.92447761 0.95708561]\n"
     ]
    }
   ],
   "source": [
    "import numpy as np\n",
    "\n",
    "# Create a 1D array with random values\n",
    "array = np.random.rand(10)\n",
    "\n",
    "# Calculate the cumulative sum of the elements in the array\n",
    "cumulative_sum = np.cumsum(array)\n",
    "\n",
    "# Calculate the cumulative product of the elements in the array\n",
    "cumulative_product = np.cumprod(array)\n",
    "\n",
    "# Calculate the discrete difference of the array with n=3\n",
    "discrete_difference = np.diff(array, n=3)\n",
    "\n",
    "# Find the unique elements from the array\n",
    "unique_elements = np.unique(array)\n",
    "\n",
    "# Print the array and the results of the operations\n",
    "print(\"Array:\", array)\n",
    "print(\"Cumulative sum:\", cumulative_sum)\n",
    "print(\"Cumulative product:\", cumulative_product)\n",
    "print(\"Discrete difference (n=3):\", discrete_difference)\n",
    "print(\"Unique elements:\", unique_elements)"
   ]
  },
  {
   "cell_type": "markdown",
   "metadata": {},
   "source": [
    "## Q4. Create two 1D array and perform the Addition using zip(), add() and user defined function (frompyfunc())\n"
   ]
  },
  {
   "cell_type": "code",
   "execution_count": 4,
   "metadata": {},
   "outputs": [
    {
     "name": "stdout",
     "output_type": "stream",
     "text": [
      "Array 1: [0.52434304 0.86641577 0.29673847 0.07690308 0.4074448 ]\n",
      "Array 2: [0.44223281 0.52702292 0.43478993 0.7640057  0.87029838]\n",
      "Addition using zip(): [0.96657585 1.39343869 0.7315284  0.84090879 1.27774318]\n",
      "Addition using add(): [0.96657585 1.39343869 0.7315284  0.84090879 1.27774318]\n",
      "Addition using frompyfunc(): [0.9665758467911624 1.3934386887092947 0.7315283976219759\n",
      " 0.8409087878029724 1.277743181914929]\n"
     ]
    }
   ],
   "source": [
    "import numpy as np\n",
    "\n",
    "# Create two 1D arrays with random values\n",
    "array1 = np.random.rand(5)\n",
    "array2 = np.random.rand(5)\n",
    "\n",
    "# Addition using zip()\n",
    "addition_zip = np.array([a + b for a, b in zip(array1, array2)])\n",
    "\n",
    "# Addition using add()\n",
    "addition_add = np.add(array1, array2)\n",
    "\n",
    "# Addition using frompyfunc()\n",
    "addition_func = np.frompyfunc(lambda x, y: x + y, 2, 1)\n",
    "addition_frompyfunc = addition_func(array1, array2)\n",
    "\n",
    "# Print the arrays and the results of the addition\n",
    "print(\"Array 1:\", array1)\n",
    "print(\"Array 2:\", array2)\n",
    "print(\"Addition using zip():\", addition_zip)\n",
    "print(\"Addition using add():\", addition_add)\n",
    "print(\"Addition using frompyfunc():\", addition_frompyfunc)"
   ]
  },
  {
   "cell_type": "markdown",
   "metadata": {},
   "source": [
    "## Q5. Find the LCM (Least Common Multiple) and GCD (Greatest Common Divisor) of an array of elements using reduce().\n"
   ]
  },
  {
   "cell_type": "code",
   "execution_count": 5,
   "metadata": {},
   "outputs": [
    {
     "name": "stdout",
     "output_type": "stream",
     "text": [
      "Array: [12, 18, 24, 30]\n",
      "LCM: 360\n",
      "GCD: 6\n"
     ]
    }
   ],
   "source": [
    "import functools\n",
    "import math\n",
    "\n",
    "# Define the array of elements\n",
    "array = [12, 18, 24, 30]\n",
    "\n",
    "# Find the LCM using reduce() and math.gcd()\n",
    "lcm = functools.reduce(lambda x, y: (x * y) // math.gcd(x, y), array)\n",
    "\n",
    "# Find the GCD using reduce() and math.gcd()\n",
    "gcd = functools.reduce(math.gcd, array)\n",
    "\n",
    "# Print the array and the results of the LCM and GCD\n",
    "print(\"Array:\", array)\n",
    "print(\"LCM:\", lcm)\n",
    "print(\"GCD:\", gcd)"
   ]
  }
 ],
 "metadata": {
  "kernelspec": {
   "display_name": "Python 3",
   "language": "python",
   "name": "python3"
  },
  "language_info": {
   "codemirror_mode": {
    "name": "ipython",
    "version": 3
   },
   "file_extension": ".py",
   "mimetype": "text/x-python",
   "name": "python",
   "nbconvert_exporter": "python",
   "pygments_lexer": "ipython3",
   "version": "3.11.5"
  },
  "orig_nbformat": 4
 },
 "nbformat": 4,
 "nbformat_minor": 2
}
