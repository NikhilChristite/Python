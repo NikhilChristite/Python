{
 "cells": [
  {
   "cell_type": "markdown",
   "metadata": {},
   "source": [
    "## Q1. Write a program to distinguish between Array Indexing and Fancy Indexing."
   ]
  },
  {
   "cell_type": "code",
   "execution_count": 1,
   "metadata": {},
   "outputs": [
    {
     "name": "stdout",
     "output_type": "stream",
     "text": [
      "1\n",
      "[2 3 4]\n",
      "[1 3 5]\n"
     ]
    }
   ],
   "source": [
    "import numpy as np\n",
    "\n",
    "# Array Indexing\n",
    "arr = np.array([1, 2, 3, 4, 5])\n",
    "print(arr[0])  # Output: 1\n",
    "print(arr[1:4])  # Output: [2 3 4]\n",
    "\n",
    "# Fancy Indexing\n",
    "arr = np.array([1, 2, 3, 4, 5])\n",
    "print(arr[[0, 2, 4]])  # Output: [1 3 5]\n"
   ]
  },
  {
   "cell_type": "markdown",
   "metadata": {},
   "source": [
    "## Q2. Execute the 2D array Slicing."
   ]
  },
  {
   "cell_type": "code",
   "execution_count": 2,
   "metadata": {},
   "outputs": [
    {
     "name": "stdout",
     "output_type": "stream",
     "text": [
      "Original array:\n",
      " [[1 2 3]\n",
      " [4 5 6]\n",
      " [7 8 9]]\n",
      "Sliced array:\n",
      " [[5 6]\n",
      " [8 9]]\n"
     ]
    }
   ],
   "source": [
    "import numpy as np\n",
    "\n",
    "# Create a 2D array\n",
    "arr = np.array([[1, 2, 3], [4, 5, 6], [7, 8, 9]])\n",
    "\n",
    "# Slicing a 2D array\n",
    "print(\"Original array:\\n\", arr)\n",
    "print(\"Sliced array:\\n\", arr[1:, 1:])\n"
   ]
  },
  {
   "cell_type": "markdown",
   "metadata": {},
   "source": [
    "## Q3. Create the 5-Dimensional arrays using ‘ndmin’."
   ]
  },
  {
   "cell_type": "code",
   "execution_count": 3,
   "metadata": {},
   "outputs": [
    {
     "name": "stdout",
     "output_type": "stream",
     "text": [
      "5-Dimensional array:\n",
      " [[[[[1 2 3 4 5]]]]]\n",
      "Shape of the array: (1, 1, 1, 1, 5)\n"
     ]
    }
   ],
   "source": [
    "import numpy as np\n",
    "\n",
    "# Create a 5-dimensional array\n",
    "arr = np.array([1, 2, 3, 4, 5], ndmin=5)\n",
    "\n",
    "# Print the array and its shape\n",
    "print(\"5-Dimensional array:\\n\", arr)\n",
    "print(\"Shape of the array:\", arr.shape)"
   ]
  },
  {
   "cell_type": "markdown",
   "metadata": {},
   "source": [
    "## Q4. Reshape the array from 1-D to 2-D array."
   ]
  },
  {
   "cell_type": "code",
   "execution_count": 4,
   "metadata": {},
   "outputs": [
    {
     "name": "stdout",
     "output_type": "stream",
     "text": [
      "Original array:\n",
      " [1 2 3 4 5 6]\n",
      "Reshaped array:\n",
      " [[1 2 3]\n",
      " [4 5 6]]\n"
     ]
    }
   ],
   "source": [
    "import numpy as np\n",
    "\n",
    "# Create a 1-D array\n",
    "arr = np.array([1, 2, 3, 4, 5, 6])\n",
    "\n",
    "# Reshape the array to a 2-D array\n",
    "new_arr = arr.reshape(2, 3)\n",
    "\n",
    "# Print the original and reshaped arrays\n",
    "print(\"Original array:\\n\", arr)\n",
    "print(\"Reshaped array:\\n\", new_arr)"
   ]
  },
  {
   "cell_type": "markdown",
   "metadata": {},
   "source": [
    "## Q5. Perform the Stack functions in Numpy arrays – Stack(), hstack(), vstack(), and dstack()."
   ]
  },
  {
   "cell_type": "code",
   "execution_count": 5,
   "metadata": {},
   "outputs": [
    {
     "name": "stdout",
     "output_type": "stream",
     "text": [
      "Horizontally stacked array:\n",
      " [1 2 3 4 5 6]\n",
      "Vertically stacked array:\n",
      " [[1 2 3]\n",
      " [4 5 6]]\n",
      "Depth-wise stacked array:\n",
      " [[[1 4]\n",
      "  [2 5]\n",
      "  [3 6]]]\n"
     ]
    }
   ],
   "source": [
    "import numpy as np\n",
    "\n",
    "# Create two 1-D arrays\n",
    "arr1 = np.array([1, 2, 3])\n",
    "arr2 = np.array([4, 5, 6])\n",
    "\n",
    "# Stack the arrays horizontally\n",
    "hstack_arr = np.hstack((arr1, arr2))\n",
    "\n",
    "# Stack the arrays vertically\n",
    "vstack_arr = np.vstack((arr1, arr2))\n",
    "\n",
    "# Stack the arrays depth-wise\n",
    "dstack_arr = np.dstack((arr1, arr2))\n",
    "\n",
    "# Print the stacked arrays\n",
    "print(\"Horizontally stacked array:\\n\", hstack_arr)\n",
    "print(\"Vertically stacked array:\\n\", vstack_arr)\n",
    "print(\"Depth-wise stacked array:\\n\", dstack_arr)"
   ]
  },
  {
   "cell_type": "markdown",
   "metadata": {},
   "source": [
    "## Q6. Perform the searchsort method in Numpy array."
   ]
  },
  {
   "cell_type": "code",
   "execution_count": 6,
   "metadata": {},
   "outputs": [
    {
     "name": "stdout",
     "output_type": "stream",
     "text": [
      "Index where 3 should be inserted: 2\n"
     ]
    }
   ],
   "source": [
    "import numpy as np\n",
    "\n",
    "# Create a sorted 1-D array\n",
    "arr = np.array([1, 2, 3, 4, 5])\n",
    "\n",
    "# Find the index where 3 should be inserted to maintain the order\n",
    "index = np.searchsorted(arr, 3)\n",
    "\n",
    "# Print the index\n",
    "print(\"Index where 3 should be inserted:\", index)"
   ]
  },
  {
   "cell_type": "markdown",
   "metadata": {},
   "source": [
    "## "
   ]
  },
  {
   "cell_type": "markdown",
   "metadata": {},
   "source": [
    "## Q7. Create Numpy Structured array using your domain features."
   ]
  },
  {
   "cell_type": "code",
   "execution_count": null,
   "metadata": {},
   "outputs": [],
   "source": [
    "import numpy as np\n",
    "\n",
    "# Create a structured data type for a student record\n",
    "student_dtype = np.dtype([('name', 'U20'), ('age', 'i4'), ('marks', 'f4')])\n",
    "\n",
    "# Create a structured array of student records\n",
    "students = np.array([('John', 20, 85.5), ('Jane', 22, 90.0)], dtype=student_dtype)\n",
    "\n",
    "# Print the structured array\n",
    "print(\"Structured array of student records:\\n\", students)"
   ]
  },
  {
   "cell_type": "markdown",
   "metadata": {},
   "source": [
    "## Q8. Create Data frame using List and Dictionary."
   ]
  },
  {
   "cell_type": "code",
   "execution_count": 7,
   "metadata": {},
   "outputs": [
    {
     "name": "stdout",
     "output_type": "stream",
     "text": [
      "DataFrame using list of dictionaries:\n",
      "    name  age  marks\n",
      "0  John   20   85.5\n",
      "1  Jane   22   90.0\n",
      "DataFrame using list of lists:\n",
      "    name  age  marks\n",
      "0  John   20   85.5\n",
      "1  Jane   22   90.0\n"
     ]
    }
   ],
   "source": [
    "import pandas as pd\n",
    "\n",
    "# Create a list of dictionaries\n",
    "data = [{'name': 'John', 'age': 20, 'marks': 85.5},\n",
    "        {'name': 'Jane', 'age': 22, 'marks': 90.0}]\n",
    "\n",
    "# Create a DataFrame from the list of dictionaries\n",
    "df = pd.DataFrame(data)\n",
    "\n",
    "# Print the DataFrame\n",
    "print(\"DataFrame using list of dictionaries:\\n\", df)\n",
    "\n",
    "# Create a list of lists\n",
    "data = [['John', 20, 85.5], ['Jane', 22, 90.0]]\n",
    "\n",
    "# Create a DataFrame from the list of lists\n",
    "df = pd.DataFrame(data, columns=['name', 'age', 'marks'])\n",
    "\n",
    "# Print the DataFrame\n",
    "print(\"DataFrame using list of lists:\\n\", df)"
   ]
  },
  {
   "cell_type": "markdown",
   "metadata": {},
   "source": [
    "## Q9. Create Data frame on your Domain area and perform the following operations to find and eliminate the missing data from the dataset.\n",
    "## • isnull()\n",
    "## • notnull()\n",
    "## • dropna()\n",
    "## • fillna()\n",
    "## • replace()\n",
    "## • interpolate()"
   ]
  },
  {
   "cell_type": "code",
   "execution_count": 8,
   "metadata": {},
   "outputs": [
    {
     "name": "stdout",
     "output_type": "stream",
     "text": [
      "Missing data:\n",
      "     name    age  gender\n",
      "0  False  False   False\n",
      "1  False   True   False\n",
      "2  False  False    True\n",
      "3  False  False   False\n",
      "Non-missing data:\n",
      "    name    age  gender\n",
      "0  True   True    True\n",
      "1  True  False    True\n",
      "2  True   True   False\n",
      "3  True   True    True\n",
      "DataFrame after dropping missing data:\n",
      "     name   age gender\n",
      "0   John  20.0      M\n",
      "3  Alice  30.0      F\n",
      "DataFrame after filling missing data:\n",
      "     name   age gender\n",
      "0   John  20.0      M\n",
      "1   Jane   0.0      F\n",
      "2    Bob  25.0      0\n",
      "3  Alice  30.0      F\n",
      "DataFrame after replacing missing data:\n",
      "     name      age   gender\n",
      "0   John     20.0        M\n",
      "1   Jane  Unknown        F\n",
      "2    Bob     25.0  Unknown\n",
      "3  Alice     30.0        F\n",
      "DataFrame after interpolating missing data:\n",
      "     name   age gender\n",
      "0   John  20.0      M\n",
      "1   Jane  22.5      F\n",
      "2    Bob  25.0    NaN\n",
      "3  Alice  30.0      F\n"
     ]
    },
    {
     "name": "stderr",
     "output_type": "stream",
     "text": [
      "C:\\Users\\nikhi\\AppData\\Local\\Temp\\ipykernel_16200\\43550651.py:29: FutureWarning: DataFrame.interpolate with object dtype is deprecated and will raise in a future version. Call obj.infer_objects(copy=False) before interpolating instead.\n",
      "  df_interpolated = df.interpolate()\n"
     ]
    }
   ],
   "source": [
    "import pandas as pd\n",
    "import numpy as np\n",
    "\n",
    "# Create a DataFrame with missing data\n",
    "data = {'name': ['John', 'Jane', 'Bob', 'Alice'],\n",
    "        'age': [20, np.nan, 25, 30],\n",
    "        'gender': ['M', 'F', np.nan, 'F']}\n",
    "df = pd.DataFrame(data)\n",
    "\n",
    "# Find missing data using isnull()\n",
    "print(\"Missing data:\\n\", df.isnull())\n",
    "\n",
    "# Find non-missing data using notnull()\n",
    "print(\"Non-missing data:\\n\", df.notnull())\n",
    "\n",
    "# Drop missing data using dropna()\n",
    "df_dropped = df.dropna()\n",
    "print(\"DataFrame after dropping missing data:\\n\", df_dropped)\n",
    "\n",
    "# Fill missing data using fillna()\n",
    "df_filled = df.fillna(0)\n",
    "print(\"DataFrame after filling missing data:\\n\", df_filled)\n",
    "\n",
    "# Replace missing data using replace()\n",
    "df_replaced = df.replace(np.nan, 'Unknown')\n",
    "print(\"DataFrame after replacing missing data:\\n\", df_replaced)\n",
    "\n",
    "# Interpolate missing data using interpolate()\n",
    "df_interpolated = df.interpolate()\n",
    "print(\"DataFrame after interpolating missing data:\\n\", df_interpolated)"
   ]
  },
  {
   "cell_type": "markdown",
   "metadata": {},
   "source": [
    "## Q10. Perform the Hierarchical Indexing in the above created dataset."
   ]
  },
  {
   "cell_type": "code",
   "execution_count": 9,
   "metadata": {},
   "outputs": [
    {
     "name": "stdout",
     "output_type": "stream",
     "text": [
      "DataFrame with hierarchical indexing:\n",
      "               age\n",
      "gender name      \n",
      "M      John    20\n",
      "F      Jane    22\n",
      "M      Bob     25\n",
      "F      Alice   30\n",
      "Accessing data using hierarchical indexing:\n",
      " age    20\n",
      "Name: (M, John), dtype: int64\n"
     ]
    }
   ],
   "source": [
    "import pandas as pd\n",
    "\n",
    "# Create a DataFrame with hierarchical indexing\n",
    "data = {'name': ['John', 'Jane', 'Bob', 'Alice'],\n",
    "        'age': [20, 22, 25, 30],\n",
    "        'gender': ['M', 'F', 'M', 'F']}\n",
    "df = pd.DataFrame(data, columns=['name', 'age', 'gender'])\n",
    "df.set_index(['gender', 'name'], inplace=True)\n",
    "\n",
    "# Print the DataFrame with hierarchical indexing\n",
    "print(\"DataFrame with hierarchical indexing:\\n\", df)\n",
    "\n",
    "# Access data using hierarchical indexing\n",
    "print(\"Accessing data using hierarchical indexing:\\n\", df.loc[('M', 'John')])"
   ]
  }
 ],
 "metadata": {
  "kernelspec": {
   "display_name": "Python 3",
   "language": "python",
   "name": "python3"
  },
  "language_info": {
   "codemirror_mode": {
    "name": "ipython",
    "version": 3
   },
   "file_extension": ".py",
   "mimetype": "text/x-python",
   "name": "python",
   "nbconvert_exporter": "python",
   "pygments_lexer": "ipython3",
   "version": "3.11.5"
  },
  "orig_nbformat": 4
 },
 "nbformat": 4,
 "nbformat_minor": 2
}
