{
 "cells": [
  {
   "cell_type": "markdown",
   "metadata": {},
   "source": [
    "### Question : 1"
   ]
  },
  {
   "cell_type": "code",
   "execution_count": 1,
   "metadata": {},
   "outputs": [
    {
     "name": "stdout",
     "output_type": "stream",
     "text": [
      "Word Count for 'time'=  1\n"
     ]
    }
   ],
   "source": [
    "#WORD COUNT PROGRAM\n",
    "\n",
    "N = \"The greatest glory in living lies not in never falling, but in rising every time we fall.\"\n",
    "N = N.split()\n",
    "# print(para)\n",
    "\n",
    "count = 0\n",
    "for z in N:\n",
    "    if z == \"time\": count += 1\n",
    "\n",
    "print(\"Word Count for 'time'= \", count)"
   ]
  },
  {
   "cell_type": "markdown",
   "metadata": {},
   "source": [
    "### Question : 2"
   ]
  },
  {
   "cell_type": "code",
   "execution_count": 2,
   "metadata": {},
   "outputs": [
    {
     "name": "stdout",
     "output_type": "stream",
     "text": [
      "Datatype of Name = <class 'str'>\n",
      "Datatype of Reg. No. = <class 'int'>\n",
      "Datatype of Domain = <class 'str'>\n"
     ]
    }
   ],
   "source": [
    "#DATATYPE PROBLEM\n",
    "\n",
    "Dict = {'Name': \"Nikhil B C\", 'Reg. No.': 2347242, 'Domain': 'Open CV Image processing'}\n",
    "for x in Dict:\n",
    "    print(\"Datatype of\",x, \"=\", type(Dict[x]))"
   ]
  },
  {
   "cell_type": "markdown",
   "metadata": {},
   "source": [
    "### Question : 3"
   ]
  },
  {
   "cell_type": "code",
   "execution_count": 3,
   "metadata": {},
   "outputs": [
    {
     "name": "stdout",
     "output_type": "stream",
     "text": [
      "Number of Integers = 9\n",
      "Number of Alphabets = 72\n",
      "Number of Special Characters = 7\n"
     ]
    }
   ],
   "source": [
    "#CHARACTER COUNT\n",
    "\n",
    "N = \"I am Nikhil B C. My reg. no. is 2347241. Lesson 01 : Life is what happens when you're busy making other plans. \"\n",
    "\n",
    "char = {'Integers': 0, 'Alphabets': 0, 'Special Characters': 0}\n",
    "\n",
    "for x in N:\n",
    "    if x.isalpha():\n",
    "        char['Alphabets'] += 1\n",
    "    elif x.isdigit():\n",
    "        char['Integers'] += 1\n",
    "    elif not x.isspace():\n",
    "        char['Special Characters'] += 1\n",
    "\n",
    "for x in char:\n",
    "    print(\"Number of\", x, \"=\", char[x])"
   ]
  },
  {
   "cell_type": "markdown",
   "metadata": {},
   "source": [
    "### Question : 4"
   ]
  },
  {
   "cell_type": "code",
   "execution_count": 4,
   "metadata": {},
   "outputs": [
    {
     "name": "stdout",
     "output_type": "stream",
     "text": [
      "{True, 34, 'Smarty', 5, 76.8}\n",
      "{34, 'Smarty', 5, 76.8}\n",
      "{34, 5, 76.8}\n",
      "set()\n"
     ]
    },
    {
     "ename": "NameError",
     "evalue": "name 'my_set' is not defined",
     "output_type": "error",
     "traceback": [
      "\u001b[1;31m---------------------------------------------------------------------------\u001b[0m",
      "\u001b[1;31mNameError\u001b[0m                                 Traceback (most recent call last)",
      "Cell \u001b[1;32mIn[4], line 26\u001b[0m\n\u001b[0;32m     23\u001b[0m \u001b[39mprint\u001b[39m(my_set) \n\u001b[0;32m     25\u001b[0m \u001b[39mdel\u001b[39;00m my_set\n\u001b[1;32m---> 26\u001b[0m \u001b[39mprint\u001b[39m(my_set) \n",
      "\u001b[1;31mNameError\u001b[0m: name 'my_set' is not defined"
     ]
    }
   ],
   "source": [
    "#SET PROBLEM\n",
    "\n",
    "'''\n",
    "INSIGTHS\n",
    "Boolean value is not counted as a part of the set\n",
    "The pop() randomly removes any element in a set and also returns the same.\n",
    "Then discard() removes a particular element from the set and doesnt give any error is element not found\n",
    "The clear() deletes all elements of the set and makes it empty\n",
    "del deletes the set from memory and can't be accessed any further\n",
    "'''\n",
    "\n",
    "my_set = {'Smarty', 5, 76.8, True, 34}\n",
    "\n",
    "print(my_set) \n",
    "\n",
    "my_set.pop()\n",
    "print(my_set) \n",
    "\n",
    "my_set.discard('Smarty')\n",
    "print(my_set) \n",
    "\n",
    "my_set.clear()\n",
    "print(my_set) \n",
    "\n",
    "del my_set\n",
    "print(my_set) "
   ]
  },
  {
   "cell_type": "markdown",
   "metadata": {},
   "source": [
    "### Question : 5"
   ]
  },
  {
   "cell_type": "code",
   "execution_count": 5,
   "metadata": {},
   "outputs": [
    {
     "name": "stdout",
     "output_type": "stream",
     "text": [
      "Original Set:\n",
      "{'India', 'South Africa', 'China', 'Australia', 'USA'}\n",
      "\n",
      " The Set in Descending Order:\n",
      "['USA', 'South Africa', 'India', 'China', 'Australia']\n"
     ]
    }
   ],
   "source": [
    "#SET DESCENDING ORDER\n",
    "\n",
    "my_set = {\"India\", \"Australia\", \"South Africa\", \"China\", \"USA\"}\n",
    "\n",
    "print(\"Original Set:\")\n",
    "print(my_set)\n",
    "\n",
    "sorted_desc = sorted(my_set, reverse=True)\n",
    "\n",
    "print(\"\\n The Set in Descending Order:\")\n",
    "print(sorted_desc)"
   ]
  },
  {
   "cell_type": "markdown",
   "metadata": {},
   "source": [
    "### Question : 6"
   ]
  },
  {
   "cell_type": "code",
   "execution_count": 6,
   "metadata": {},
   "outputs": [
    {
     "name": "stdout",
     "output_type": "stream",
     "text": [
      "Packed Tuple:\n",
      "('India', 'Australia', 'South Africa', 'China', 'USA')\n",
      "\n",
      "Unpacked Attributes:\n",
      "Attribute 1: India\n",
      "Attribute 2: Australia\n",
      "Attribute 3: South Africa\n",
      "Attribute 4: China\n",
      "Attribute 5: USA\n"
     ]
    }
   ],
   "source": [
    "#TUPLE PACKING UNPACKING\n",
    "\n",
    "my_tuple = \"India\", \"Australia\", \"South Africa\", \"China\", \"USA\"\n",
    "print(\"Packed Tuple:\")\n",
    "print(my_tuple)\n",
    "\n",
    "Attribute_NO1, Attribute_NO2, Attribute_NO3, Attribute_NO4, Attribute_NO5 = my_tuple\n",
    "print(\"\\nUnpacked Attributes:\")\n",
    "print(\"Attribute 1:\", Attribute_NO1)\n",
    "print(\"Attribute 2:\", Attribute_NO2)\n",
    "print(\"Attribute 3:\", Attribute_NO3)\n",
    "print(\"Attribute 4:\", Attribute_NO4)\n",
    "print(\"Attribute 5:\", Attribute_NO5)"
   ]
  },
  {
   "cell_type": "markdown",
   "metadata": {},
   "source": [
    "### Question : 7"
   ]
  },
  {
   "cell_type": "code",
   "execution_count": 7,
   "metadata": {},
   "outputs": [
    {
     "name": "stdout",
     "output_type": "stream",
     "text": [
      "The number of 'e' in Domain:  4\n"
     ]
    }
   ],
   "source": [
    "#LETTER COUNT\n",
    "\n",
    "my_Domain = \"The way to get started is to quit talking and begin doing.\"\n",
    "count_Ltr = 0\n",
    "for x in my_Domain:\n",
    "    if x=='e': count_Ltr +=1\n",
    "\n",
    "print(\"The number of 'e' in Domain: \", count_Ltr)"
   ]
  },
  {
   "cell_type": "markdown",
   "metadata": {},
   "source": [
    "### Question : 8"
   ]
  },
  {
   "cell_type": "code",
   "execution_count": 8,
   "metadata": {},
   "outputs": [
    {
     "name": "stdout",
     "output_type": "stream",
     "text": [
      "If life were predictable it would cease to be life, and be without flavor.\n",
      ".rovalf tuohtiw eb dna ,efil eb ot esaec dluow ti elbatciderp erew efil fI\n",
      "I iewr rdcal twudcaet elf,adb ihu lvr\n",
      ".rovalf tuohtiw eb dna ,efil eb ot esaec dluow ti elbatciderp erew efil f\n"
     ]
    }
   ],
   "source": [
    "#SCLICING\n",
    "\n",
    "my_Domain = \"If life were predictable it would cease to be life, and be without flavor.\"\n",
    "print(my_Domain[0:len(my_Domain)])\n",
    "print(my_Domain[::-1])\n",
    "print(my_Domain[0:len(my_Domain):2])\n",
    "print(my_Domain[len(my_Domain)-1:0:-1])"
   ]
  }
 ],
 "metadata": {
  "kernelspec": {
   "display_name": "Python 3",
   "language": "python",
   "name": "python3"
  },
  "language_info": {
   "codemirror_mode": {
    "name": "ipython",
    "version": 3
   },
   "file_extension": ".py",
   "mimetype": "text/x-python",
   "name": "python",
   "nbconvert_exporter": "python",
   "pygments_lexer": "ipython3",
   "version": "3.11.0"
  },
  "orig_nbformat": 4
 },
 "nbformat": 4,
 "nbformat_minor": 2
}
