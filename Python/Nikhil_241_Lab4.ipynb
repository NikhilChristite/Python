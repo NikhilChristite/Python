{
 "cells": [
  {
   "cell_type": "code",
   "execution_count": 1,
   "metadata": {},
   "outputs": [
    {
     "name": "stdout",
     "output_type": "stream",
     "text": [
      "Image with dimensions 800x600\n",
      "Processing image:\n",
      "Applying basic filter\n",
      "Applying edge detection filter\n",
      "Applying resize filter\n",
      "Processing advanced image:\n",
      "Applying advanced filter\n",
      "Processing image:\n",
      "Applying basic filter\n",
      "Applying edge detection filter\n",
      "Applying resize filter\n"
     ]
    }
   ],
   "source": [
    "class Image:\n",
    "    def __init__(self, width, height):\n",
    "        self.width = width\n",
    "        self.height = height\n",
    "\n",
    "    def display(self):\n",
    "        print(f\"Image with dimensions {self.width}x{self.height}\")\n",
    "\n",
    "class BasicFilter:\n",
    "    def apply_filter(self):\n",
    "        print(\"Applying basic filter\")\n",
    "\n",
    "class EdgeDetector(BasicFilter):\n",
    "    def apply_edge_detection(self):\n",
    "        print(\"Applying edge detection filter\")\n",
    "\n",
    "class ResizeFilter:\n",
    "    def apply_resize(self):\n",
    "        print(\"Applying resize filter\")\n",
    "\n",
    "class ImageApp(EdgeDetector, ResizeFilter):\n",
    "    def process_image(self):\n",
    "        print(\"Processing image:\")\n",
    "        self.apply_filter()\n",
    "        self.apply_edge_detection()\n",
    "        self.apply_resize()\n",
    "\n",
    "class AdvancedFilter(BasicFilter):\n",
    "    def apply_advanced_filter(self):\n",
    "        print(\"Applying advanced filter\")\n",
    "\n",
    "class AdvancedImageApp(ImageApp, AdvancedFilter):\n",
    "    def process_advanced_image(self):\n",
    "        print(\"Processing advanced image:\")\n",
    "        self.apply_advanced_filter()\n",
    "        self.process_image()\n",
    "\n",
    "# Create instances and demonstrate inheritance\n",
    "image = Image(800, 600)\n",
    "image.display()\n",
    "\n",
    "basic_app = ImageApp()\n",
    "basic_app.process_image()\n",
    "\n",
    "advanced_app = AdvancedImageApp()\n",
    "advanced_app.process_advanced_image()\n"
   ]
  }
 ],
 "metadata": {
  "kernelspec": {
   "display_name": "Python 3",
   "language": "python",
   "name": "python3"
  },
  "language_info": {
   "codemirror_mode": {
    "name": "ipython",
    "version": 3
   },
   "file_extension": ".py",
   "mimetype": "text/x-python",
   "name": "python",
   "nbconvert_exporter": "python",
   "pygments_lexer": "ipython3",
   "version": "3.11.0"
  },
  "orig_nbformat": 4
 },
 "nbformat": 4,
 "nbformat_minor": 2
}
