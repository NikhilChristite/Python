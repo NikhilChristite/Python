{
 "cells": [
  {
   "cell_type": "markdown",
   "metadata": {},
   "source": [
    "## Q1. Write a program using the Regular Exception and create a function that accepts a string and searches it for a valid phone number.\n",
    "Return the phone number if found.\n",
    "A valid phone number may be one of the following:\n",
    "(xxx)-xxx-xxxx\n",
    "xxx-xxx-xxxx\n"
   ]
  },
  {
   "cell_type": "code",
   "execution_count": 1,
   "metadata": {},
   "outputs": [
    {
     "name": "stdout",
     "output_type": "stream",
     "text": [
      "Found phone number: (123)-456-7890\n"
     ]
    }
   ],
   "source": [
    "import re\n",
    "\n",
    "def find_phone_number(input_string):\n",
    "    # Define a regular expression pattern for a valid phone number\n",
    "    pattern = r'\\(?\\d{3}\\)?[-.\\s]?\\d{3}[-.\\s]?\\d{4}'\n",
    "\n",
    "    # Search for the pattern in the input string\n",
    "    match = re.search(pattern, input_string)\n",
    "\n",
    "    # If a match is found, return the phone number\n",
    "    if match:\n",
    "        return match.group()\n",
    "    else:\n",
    "        return None\n",
    "\n",
    "# Test the function with a sample string\n",
    "input_string = \"My phone number is (123)-456-7890. Call me!\"\n",
    "phone_number = find_phone_number(input_string)\n",
    "\n",
    "if phone_number:\n",
    "    print(\"Found phone number:\", phone_number)\n",
    "else:\n",
    "    print(\"No valid phone number found.\")\n"
   ]
  },
  {
   "cell_type": "markdown",
   "metadata": {},
   "source": [
    "## Q2. Write a function that employs regular expressions to ensure the password given to the function is strong.\n",
    "A strong password is defined as follows:\n",
    "·       at least eight characters long\n",
    "·       contains one uppercase character\n",
    "·       contains one lowercase character\n",
    "·       has at least one digit\n",
    "·       has at least one special character\n",
    "[For instance: Christ@123]\n"
   ]
  },
  {
   "cell_type": "code",
   "execution_count": 2,
   "metadata": {},
   "outputs": [
    {
     "name": "stdout",
     "output_type": "stream",
     "text": [
      "The password is strong.\n"
     ]
    }
   ],
   "source": [
    "import re\n",
    "\n",
    "def is_strong_password(password):\n",
    "    # Define a regular expression pattern for a strong password\n",
    "    pattern = r'^(?=.*[A-Z])(?=.*[a-z])(?=.*\\d)(?=.*[@#$%^&+=!]).{8,}$'\n",
    "\n",
    "    # Use re.match to check if the password matches the pattern\n",
    "    if re.match(pattern, password):\n",
    "        return True\n",
    "    else:\n",
    "        return False\n",
    "\n",
    "# Test the function with a password\n",
    "password = \"Christ@123\"\n",
    "\n",
    "if is_strong_password(password):\n",
    "    print(\"The password is strong.\")\n",
    "else:\n",
    "    print(\"The password is not strong.\")\n"
   ]
  }
 ],
 "metadata": {
  "kernelspec": {
   "display_name": "Python 3",
   "language": "python",
   "name": "python3"
  },
  "language_info": {
   "codemirror_mode": {
    "name": "ipython",
    "version": 3
   },
   "file_extension": ".py",
   "mimetype": "text/x-python",
   "name": "python",
   "nbconvert_exporter": "python",
   "pygments_lexer": "ipython3",
   "version": "3.11.4"
  },
  "orig_nbformat": 4
 },
 "nbformat": 4,
 "nbformat_minor": 2
}
