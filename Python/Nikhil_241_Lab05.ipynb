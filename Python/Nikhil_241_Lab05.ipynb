{
 "cells": [
  {
   "cell_type": "markdown",
   "metadata": {},
   "source": [
    "## Q1. Write a program to handle the exception of ZeroDivisionError.\n"
   ]
  },
  {
   "cell_type": "code",
   "execution_count": 11,
   "metadata": {},
   "outputs": [
    {
     "name": "stdout",
     "output_type": "stream",
     "text": [
      "ERROR : DIVISION BY ZERO IS NOT ALLOWED.\n"
     ]
    }
   ],
   "source": [
    "def _divide_(a, b):\n",
    "    try:\n",
    "        result = a / b\n",
    "        return result\n",
    "    except ZeroDivisionError:\n",
    "        print(\"ERROR : DIVISION BY ZERO IS NOT ALLOWED.\")\n",
    "        return None\n",
    "\n",
    "# Taking input from the user\n",
    "numerator = float(input(\"ENTER THE NUMERATOR : \"))\n",
    "denominator = float(input(\"ENTER THE DENOMINATOR : \"))\n",
    "# Fucntion call for division\n",
    "result = _divide_(numerator, denominator)\n",
    "# Output\n",
    "if result is not None:\n",
    "    print(\"RESULT :\", result)"
   ]
  },
  {
   "cell_type": "markdown",
   "metadata": {},
   "source": [
    "## Q2. Write a program to handle the exception of IndexError.\n"
   ]
  },
  {
   "cell_type": "code",
   "execution_count": 12,
   "metadata": {},
   "outputs": [
    {
     "name": "stdout",
     "output_type": "stream",
     "text": [
      "Error: Index out of range!\n",
      "Element retrieval was not successful due to an error.\n"
     ]
    }
   ],
   "source": [
    "def get_element_at_index(my_list, index):\n",
    "    try:\n",
    "        element = my_list[index]\n",
    "        return element\n",
    "    except IndexError:\n",
    "        print(\"Error: Index out of range!\")\n",
    "        return None\n",
    "\n",
    "# Example list\n",
    "my_list = [1, 2, 3, 4, 5]\n",
    "\n",
    "# Taking user input for the index\n",
    "index = int(input(\"Enter an index to retrieve an element: \"))\n",
    "\n",
    "# Call the function to get an element by index and handle exceptions\n",
    "result = get_element_at_index(my_list, index)\n",
    "\n",
    "if result is not None:\n",
    "    print(\"Element at index\", index, \"is:\", result)\n",
    "else:\n",
    "    print(\"Element retrieval was not successful due to an error.\")\n"
   ]
  }
 ],
 "metadata": {
  "kernelspec": {
   "display_name": "Python 3",
   "language": "python",
   "name": "python3"
  },
  "language_info": {
   "codemirror_mode": {
    "name": "ipython",
    "version": 3
   },
   "file_extension": ".py",
   "mimetype": "text/x-python",
   "name": "python",
   "nbconvert_exporter": "python",
   "pygments_lexer": "ipython3",
   "version": "3.11.4"
  },
  "orig_nbformat": 4
 },
 "nbformat": 4,
 "nbformat_minor": 2
}
